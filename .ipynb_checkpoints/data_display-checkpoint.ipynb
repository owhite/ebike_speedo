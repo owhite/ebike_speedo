{
 "cells": [
  {
   "cell_type": "code",
   "execution_count": 159,
   "id": "36bfd9de",
   "metadata": {},
   "outputs": [
    {
     "data": {
      "image/png": "[encoded data removed]",
      "text/plain": [
       "<Figure size 640x480 with 1 Axes>"
      ]
     },
     "metadata": {},
     "output_type": "display_data"
    }
   ],
   "source": [
    "import urllib.request\n",
    "import json\n",
    "import pandas as pd\n",
    "import matplotlib.pyplot as plt\n",
    "import numpy as np\n",
    "\n",
    "def get_web_page(req):\n",
    "    try: urllib.request.urlopen(req)\n",
    "    except urllib.error.URLError as e:\n",
    "        print(e.reason) \n",
    "    with urllib.request.urlopen(req) as response:\n",
    "        the_page = response.read().decode('utf-8')\n",
    "        response.close()\n",
    "        return(the_page)\n",
    "        \n",
    "def make_frame(page): \n",
    "    lines = page.splitlines();\n",
    "\n",
    "    names = []\n",
    "    sets = []\n",
    "    i = 0\n",
    "\n",
    "    for key in json.loads(lines[0]).keys():\n",
    "        names.append(key)\n",
    "        sets.append([])\n",
    "        i = i + 1\n",
    "\n",
    "    count = 0\n",
    "    x = []\n",
    "    for line in lines:\n",
    "        js = json.loads(line)\n",
    "        x.append(count)\n",
    "        count = count + 1\n",
    "        i = 0\n",
    "        for n in names:\n",
    "            sets[i].append(js[n])\n",
    "            i = i + 1\n",
    "\n",
    "    my_dict = {}\n",
    "    i = 0\n",
    "    for key in json.loads(lines[0]).keys():\n",
    "        thing = {names[i]: sets[i]}\n",
    "        my_dict.update(thing)\n",
    "        i = i + 1\n",
    "        \n",
    "    return(my_dict)\n",
    "\n",
    "# URL = input()\n",
    "URL = 'https://raw.githubusercontent.com/owhite/ebike_data/main/first_set'\n",
    "page = get_web_page(URL)\n",
    "data = make_frame(page)\n",
    "\n",
    "df = pd.DataFrame(data)\n",
    "\n",
    "df['phaseA'] = np.sqrt( (df['idq_d'] * df['idq_d']) + (df['idq_q'] * df['idq_q']) )\n",
    "\n",
    "plt.plot(df['ehz'])\n",
    "plt.plot(df['phaseA'])\n",
    "\n",
    "plt.show()    "
   ]
  },
  {
   "cell_type": "code",
   "execution_count": 160,
   "id": "3186d561",
   "metadata": {},
   "outputs": [
    {
     "name": "stdout",
     "output_type": "stream",
     "text": [
      "\u001b[34m3D_model\u001b[m\u001b[m/           README.md           data_display.ipynb  \u001b[34mkicad_V1.1\u001b[m\u001b[m/\r\n",
      "\u001b[34mF405_serial_test\u001b[m\u001b[m/   Untitled.ipynb      \u001b[34mesp32_code\u001b[m\u001b[m/         \u001b[34mpics\u001b[m\u001b[m/\r\n",
      "LICENSE.md          \u001b[34mV1.1\u001b[m\u001b[m/               \u001b[34mkicad_V1.0\u001b[m\u001b[m/\r\n"
     ]
    }
   ],
   "source": [
    "ls"
   ]
  },
  {
   "cell_type": "code",
   "execution_count": null,
   "id": "a7205dc4",
   "metadata": {},
   "outputs": [],
   "source": []
  }
 ],
 "metadata": {
  "kernelspec": {
   "display_name": "Python 3 (ipykernel)",
   "language": "python",
   "name": "python3"
  },
  "language_info": {
   "codemirror_mode": {
    "name": "ipython",
    "version": 3
   },
   "file_extension": ".py",
   "mimetype": "text/x-python",
   "name": "python",
   "nbconvert_exporter": "python",
   "pygments_lexer": "ipython3",
   "version": "3.10.10"
  }
 },
 "nbformat": 4,
 "nbformat_minor": 5
}
